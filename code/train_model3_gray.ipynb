{
 "cells": [
  {
   "cell_type": "code",
   "execution_count": 1,
   "metadata": {},
   "outputs": [
    {
     "name": "stderr",
     "output_type": "stream",
     "text": [
      "Using TensorFlow backend.\n"
     ]
    }
   ],
   "source": [
    "import keras\n",
    "import numpy as np\n",
    "import sklearn\n",
    "from keras import backend as K\n",
    "import os\n",
    "import tensorflow as tf\n",
    "from tqdm import tqdm\n",
    "import matplotlib.pyplot as plt\n",
    "\n",
    "%matplotlib inline  \n",
    "plt.rcParams[\"axes.grid\"] = False\n",
    "plt.rcParams['figure.figsize'] = [25,5]"
   ]
  },
  {
   "cell_type": "code",
   "execution_count": 10,
   "metadata": {},
   "outputs": [],
   "source": [
    "train_blur_dirs = [('datav7/train30000/median','median'),\n",
    "                   ('datav7/train30000/gaussian','gaussian'),\n",
    "                   ('datav7/train30000/down','down')]\n",
    "train_ori_dir = 'datav7/train30000/ori'\n",
    "\n",
    "dev_blur_dirs = [('datav7/dev20000/median','median'),\n",
    "                 ('datav7/dev20000/gaussian','gaussian'),\n",
    "                 ('datav7/dev20000/down','down')]\n",
    "dev_ori_dir = 'datav7/dev20000/ori'\n",
    "\n",
    "test_blur_dirs = [('datav7/test20000/median','median'),\n",
    "                 ('datav7/test20000/gaussian','gaussian'),\n",
    "                 ('datav7/test20000/down','down')]\n",
    "test_ori_dir = 'datav7/test20000/ori'"
   ]
  },
  {
   "cell_type": "code",
   "execution_count": 11,
   "metadata": {},
   "outputs": [],
   "source": [
    "X_train = []\n",
    "y_train = []\n",
    "train_size = 30000 # for images in each folder\n",
    "\n",
    "for (train_blur_dir,prefix) in train_blur_dirs:\n",
    "    for i in range(train_size):\n",
    "        X_train.append(os.path.join(train_blur_dir, '{}{}.png'.format(prefix,i)))\n",
    "        y_train.append(os.path.join(train_ori_dir, '{}{}.png'.format('ori',i)))"
   ]
  },
  {
   "cell_type": "code",
   "execution_count": 12,
   "metadata": {},
   "outputs": [],
   "source": [
    "X_dev = []\n",
    "y_dev = []\n",
    "dev_size = 20000 # for images in each folder\n",
    "\n",
    "for (dev_blur_dir,prefix) in dev_blur_dirs:\n",
    "    for i in range(dev_size):\n",
    "        X_dev.append(os.path.join(dev_blur_dir, '{}{}.png'.format(prefix,i)))\n",
    "        y_dev.append(os.path.join(dev_ori_dir, '{}{}.png'.format('ori',i)))"
   ]
  },
  {
   "cell_type": "code",
   "execution_count": 13,
   "metadata": {},
   "outputs": [],
   "source": [
    "X_test = []\n",
    "y_test = []\n",
    "test_size = 20000 # for images in each folder\n",
    "\n",
    "for (test_blur_dir,prefix) in test_blur_dirs:\n",
    "    for i in range(test_size):\n",
    "        X_test.append(os.path.join(test_blur_dir, '{}{}.png'.format(prefix,i)))\n",
    "        y_test.append(os.path.join(test_ori_dir, '{}{}.png'.format('ori',i)))"
   ]
  },
  {
   "cell_type": "code",
   "execution_count": 14,
   "metadata": {},
   "outputs": [],
   "source": [
    "from skimage.io import imread\n",
    "from skimage.transform import resize\n",
    "from skimage import color\n",
    "from keras.utils import Sequence\n",
    "\n",
    "class generator(Sequence):\n",
    "    def __init__(self, x_set, y_set, batch_size=32):\n",
    "        self.x, self.y = x_set, y_set\n",
    "        self.batch_size = batch_size\n",
    "\n",
    "    def __len__(self):\n",
    "        return int(np.ceil(len(self.x) / float(self.batch_size)))\n",
    "\n",
    "    def __getitem__(self, idx):\n",
    "        batch_x = self.x[idx * self.batch_size:(idx + 1) * self.batch_size]\n",
    "        batch_y = self.y[idx * self.batch_size:(idx + 1) * self.batch_size]\n",
    "\n",
    "#         return np.array([imread(file_name) for file_name in batch_x])/255., np.array([imread(file_name) for file_name in batch_y])/255.\n",
    "        \n",
    "        X = np.array([color.rgb2gray(imread(file_name)) for file_name in batch_x])\n",
    "        y = np.array([color.rgb2gray(imread(file_name)) for file_name in batch_y])\n",
    "        return X.reshape(-1,50,300,1), y.reshape(-1,50,300,1)\n",
    "    \n",
    "    \n",
    "class pred_generator(Sequence):\n",
    "    def __init__(self, x_set, batch_size=32):\n",
    "        self.x = x_set          \n",
    "        self.batch_size = batch_size\n",
    "\n",
    "    def __len__(self):\n",
    "        return int(np.ceil(len(self.x) / float(self.batch_size)))\n",
    "\n",
    "    def __getitem__(self, idx):\n",
    "        batch_x = self.x[idx * self.batch_size:(idx + 1) * self.batch_size]\n",
    "\n",
    "#         return np.array([imread(file_name) for file_name in batch_x])/255., np.array([imread(file_name) for file_name in batch_y])/255.\n",
    "        X = np.array([color.rgb2gray(imread(file_name)) for file_name in batch_x])\n",
    "        return X.reshape(-1,50,300,1)"
   ]
  },
  {
   "cell_type": "code",
   "execution_count": 16,
   "metadata": {},
   "outputs": [],
   "source": [
    "def psnr(y_true, y_pred):    \n",
    "    return tf.image.psnr(y_true, y_pred, max_val=1)\n",
    "\n",
    "def mae(y_true, y_pred):\n",
    "    return K.mean(K.abs(y_true - y_pred))*255."
   ]
  },
  {
   "cell_type": "code",
   "execution_count": 17,
   "metadata": {},
   "outputs": [],
   "source": [
    "from keras.layers import Input, Conv2D, Conv2DTranspose, Activation, BatchNormalization, Flatten, Dense, Reshape, Add\n",
    "from keras.models import Model\n",
    "\n",
    "def get_model(input_shape): \n",
    "  #input 1-image (inverse)\n",
    "    x = Input(shape = input_shape)\n",
    "    c1 = Conv2D(64, 9, strides=1, activation = 'relu', padding='same')(x)\n",
    "    c2 = Conv2D(32, 1, strides=1, activation = 'relu', padding='same')(c1)\n",
    "    c3 = Conv2D(input_shape[2], 5, strides=1, activation = 'relu', padding='same')(c2)\n",
    "    model = Model(inputs = x, outputs = c3)\n",
    "    return model\n",
    "\n",
    "\n",
    "def get_model2(input_shape): \n",
    "    #input image\n",
    "    x = Input(shape = input_shape)\n",
    "\n",
    "    c1 = Conv2D(64, 9, strides=1, padding='same')(x)\n",
    "    b1 = BatchNormalization()(c1)\n",
    "    h1 = Activation('relu')(b1)\n",
    "\n",
    "    c2 = Conv2D(32, 3, strides=1, activation = 'relu', padding='same')(h1)\n",
    "    #   b2 = BatchNormalization()(c2)\n",
    "    h2 = Activation('relu')(c2)\n",
    "\n",
    "    c3 = Conv2D(10, 5, strides=1, activation = 'relu', padding='same')(h2)\n",
    "    #   b3 = BatchNormalization()(c3)\n",
    "    h3 = Activation('relu')(c3)\n",
    "\n",
    "    c4 = Conv2D(input_shape[2], 5, strides=1, padding='same')(h3)\n",
    "    h4 = Activation('relu')(c4)\n",
    "\n",
    "    model = Model(inputs = x, outputs = h4)\n",
    "\n",
    "    return model\n",
    "\n",
    "def get_model3(input_shape): \n",
    "    #input image\n",
    "    x = Input(shape = input_shape)\n",
    "\n",
    "    c1 = Conv2D(64, 3, strides=1, padding='same')(x)\n",
    "    b1 = BatchNormalization()(c1)\n",
    "    h1 = Activation('relu')(b1)\n",
    "\n",
    "    c2 = Conv2D(64, 3, strides=1, activation = 'relu', padding='same')(h1)\n",
    "    h2 = Activation('relu')(c2)\n",
    "\n",
    "    c3 = Conv2D(64, 3, strides=1, activation = 'relu', padding='same')(h2)\n",
    "    h3 = Activation('relu')(c3)\n",
    "    \n",
    "    c4 = Conv2DTranspose(64, 3, strides=1, activation = 'relu', padding='same')(h3)\n",
    "    m4 = Add()([c3, c4])\n",
    "    h4 = Activation('relu')(m4)\n",
    "    \n",
    "    c5 = Conv2DTranspose(64, 3, strides=1, activation = 'relu', padding='same')(h4)\n",
    "    m5 = Add()([c2, c5])\n",
    "    h5 = Activation('relu')(m5)\n",
    "    \n",
    "    c6 = Conv2DTranspose(64, 3, strides=1, activation = 'relu', padding='same')(h5)\n",
    "    m6 = Add()([c1, c6])\n",
    "    h6 = Activation('relu')(m6)\n",
    "    \n",
    "    c7 = Conv2DTranspose(1, 3, strides=1, activation = 'relu', padding='same')(h6)\n",
    "    h7 = Activation('relu')(c7)\n",
    "    \n",
    "    model = Model(inputs = x, outputs = c7)\n",
    "\n",
    "    return model\n",
    "\n",
    "def get_model4(input_shape): \n",
    "  #input 1-image (inverse)\n",
    "    x = Input(shape = input_shape)\n",
    "    model = Model(inputs = x, outputs = x)\n",
    "    return model"
   ]
  },
  {
   "cell_type": "markdown",
   "metadata": {},
   "source": [
    "# train model 3"
   ]
  },
  {
   "cell_type": "code",
   "execution_count": 26,
   "metadata": {},
   "outputs": [
    {
     "name": "stdout",
     "output_type": "stream",
     "text": [
      "__________________________________________________________________________________________________\n",
      "Layer (type)                    Output Shape         Param #     Connected to                     \n",
      "==================================================================================================\n",
      "input_1 (InputLayer)            (None, 50, 300, 1)   0                                            \n",
      "__________________________________________________________________________________________________\n",
      "conv2d_1 (Conv2D)               (None, 50, 300, 64)  640         input_1[0][0]                    \n",
      "__________________________________________________________________________________________________\n",
      "batch_normalization_1 (BatchNor (None, 50, 300, 64)  256         conv2d_1[0][0]                   \n",
      "__________________________________________________________________________________________________\n",
      "activation_1 (Activation)       (None, 50, 300, 64)  0           batch_normalization_1[0][0]      \n",
      "__________________________________________________________________________________________________\n",
      "conv2d_2 (Conv2D)               (None, 50, 300, 64)  36928       activation_1[0][0]               \n",
      "__________________________________________________________________________________________________\n",
      "activation_2 (Activation)       (None, 50, 300, 64)  0           conv2d_2[0][0]                   \n",
      "__________________________________________________________________________________________________\n",
      "conv2d_3 (Conv2D)               (None, 50, 300, 64)  36928       activation_2[0][0]               \n",
      "__________________________________________________________________________________________________\n",
      "activation_3 (Activation)       (None, 50, 300, 64)  0           conv2d_3[0][0]                   \n",
      "__________________________________________________________________________________________________\n",
      "conv2d_transpose_1 (Conv2DTrans (None, 50, 300, 64)  36928       activation_3[0][0]               \n",
      "__________________________________________________________________________________________________\n",
      "add_1 (Add)                     (None, 50, 300, 64)  0           conv2d_3[0][0]                   \n",
      "                                                                 conv2d_transpose_1[0][0]         \n",
      "__________________________________________________________________________________________________\n",
      "activation_4 (Activation)       (None, 50, 300, 64)  0           add_1[0][0]                      \n",
      "__________________________________________________________________________________________________\n",
      "conv2d_transpose_2 (Conv2DTrans (None, 50, 300, 64)  36928       activation_4[0][0]               \n",
      "__________________________________________________________________________________________________\n",
      "add_2 (Add)                     (None, 50, 300, 64)  0           conv2d_2[0][0]                   \n",
      "                                                                 conv2d_transpose_2[0][0]         \n",
      "__________________________________________________________________________________________________\n",
      "activation_5 (Activation)       (None, 50, 300, 64)  0           add_2[0][0]                      \n",
      "__________________________________________________________________________________________________\n",
      "conv2d_transpose_3 (Conv2DTrans (None, 50, 300, 64)  36928       activation_5[0][0]               \n",
      "__________________________________________________________________________________________________\n",
      "add_3 (Add)                     (None, 50, 300, 64)  0           conv2d_1[0][0]                   \n",
      "                                                                 conv2d_transpose_3[0][0]         \n",
      "__________________________________________________________________________________________________\n",
      "activation_6 (Activation)       (None, 50, 300, 64)  0           add_3[0][0]                      \n",
      "__________________________________________________________________________________________________\n",
      "conv2d_transpose_4 (Conv2DTrans (None, 50, 300, 1)   577         activation_6[0][0]               \n",
      "==================================================================================================\n",
      "Total params: 186,113\n",
      "Trainable params: 185,985\n",
      "Non-trainable params: 128\n",
      "__________________________________________________________________________________________________\n"
     ]
    }
   ],
   "source": [
    "K.clear_session()\n",
    "model3 = get_model3(input_shape=(50,300,1))\n",
    "model3.summary()"
   ]
  },
  {
   "cell_type": "code",
   "execution_count": 27,
   "metadata": {},
   "outputs": [],
   "source": [
    "from keras.optimizers import Adam\n",
    "model3.compile(Adam(), loss='mse', metrics=[psnr, mae])\n",
    "\n",
    "saved_path = 'model_weight/model3_datav7/model_weight.hdf5'\n",
    "csv_log_path = 'training_log/model3_datav7/training.log'\n",
    "tensor_log_path = 'tensor_board_log/model3_datav7'"
   ]
  },
  {
   "cell_type": "code",
   "execution_count": 15,
   "metadata": {},
   "outputs": [
    {
     "ename": "NameError",
     "evalue": "name 'saved_path' is not defined",
     "output_type": "error",
     "traceback": [
      "\u001b[0;31m---------------------------------------------------------------------------\u001b[0m",
      "\u001b[0;31mNameError\u001b[0m                                 Traceback (most recent call last)",
      "\u001b[0;32m<ipython-input-15-36ec2f5a5f34>\u001b[0m in \u001b[0;36m<module>\u001b[0;34m\u001b[0m\n\u001b[1;32m      1\u001b[0m \u001b[0;32mfrom\u001b[0m \u001b[0mkeras\u001b[0m\u001b[0;34m.\u001b[0m\u001b[0mcallbacks\u001b[0m \u001b[0;32mimport\u001b[0m \u001b[0mModelCheckpoint\u001b[0m\u001b[0;34m,\u001b[0m \u001b[0mReduceLROnPlateau\u001b[0m\u001b[0;34m,\u001b[0m \u001b[0mEarlyStopping\u001b[0m\u001b[0;34m,\u001b[0m \u001b[0mTensorBoard\u001b[0m\u001b[0;34m,\u001b[0m \u001b[0mCSVLogger\u001b[0m\u001b[0;34m\u001b[0m\u001b[0m\n\u001b[1;32m      2\u001b[0m callbacks = [\n\u001b[0;32m----> 3\u001b[0;31m     \u001b[0mModelCheckpoint\u001b[0m\u001b[0;34m(\u001b[0m\u001b[0msaved_path\u001b[0m\u001b[0;34m,\u001b[0m \u001b[0mmonitor\u001b[0m\u001b[0;34m=\u001b[0m\u001b[0;34m'val_loss'\u001b[0m\u001b[0;34m,\u001b[0m \u001b[0mverbose\u001b[0m\u001b[0;34m=\u001b[0m\u001b[0;36m1\u001b[0m\u001b[0;34m,\u001b[0m \u001b[0msave_best_only\u001b[0m\u001b[0;34m=\u001b[0m\u001b[0;32mTrue\u001b[0m\u001b[0;34m,\u001b[0m \u001b[0msave_weights_only\u001b[0m\u001b[0;34m=\u001b[0m\u001b[0;32mFalse\u001b[0m\u001b[0;34m)\u001b[0m\u001b[0;34m,\u001b[0m\u001b[0;34m\u001b[0m\u001b[0m\n\u001b[0m\u001b[1;32m      4\u001b[0m     \u001b[0mReduceLROnPlateau\u001b[0m\u001b[0;34m(\u001b[0m\u001b[0mmonitor\u001b[0m\u001b[0;34m=\u001b[0m\u001b[0;34m'val_loss'\u001b[0m\u001b[0;34m,\u001b[0m \u001b[0mfactor\u001b[0m\u001b[0;34m=\u001b[0m\u001b[0;36m0.2\u001b[0m\u001b[0;34m,\u001b[0m \u001b[0mpatience\u001b[0m\u001b[0;34m=\u001b[0m\u001b[0;36m2\u001b[0m\u001b[0;34m,\u001b[0m \u001b[0mmin_lr\u001b[0m\u001b[0;34m=\u001b[0m\u001b[0;36m0.0005\u001b[0m\u001b[0;34m)\u001b[0m\u001b[0;34m,\u001b[0m\u001b[0;34m\u001b[0m\u001b[0m\n\u001b[1;32m      5\u001b[0m     \u001b[0mEarlyStopping\u001b[0m\u001b[0;34m(\u001b[0m\u001b[0mmonitor\u001b[0m\u001b[0;34m=\u001b[0m\u001b[0;34m'val_loss'\u001b[0m\u001b[0;34m,\u001b[0m \u001b[0mpatience\u001b[0m\u001b[0;34m=\u001b[0m\u001b[0;36m20\u001b[0m\u001b[0;34m,\u001b[0m \u001b[0mverbose\u001b[0m\u001b[0;34m=\u001b[0m\u001b[0;36m0\u001b[0m\u001b[0;34m,\u001b[0m \u001b[0mmode\u001b[0m\u001b[0;34m=\u001b[0m\u001b[0;34m'auto'\u001b[0m\u001b[0;34m,\u001b[0m \u001b[0mbaseline\u001b[0m\u001b[0;34m=\u001b[0m\u001b[0;32mNone\u001b[0m\u001b[0;34m,\u001b[0m \u001b[0mrestore_best_weights\u001b[0m\u001b[0;34m=\u001b[0m\u001b[0;32mFalse\u001b[0m\u001b[0;34m)\u001b[0m\u001b[0;34m,\u001b[0m\u001b[0;34m\u001b[0m\u001b[0m\n",
      "\u001b[0;31mNameError\u001b[0m: name 'saved_path' is not defined"
     ]
    }
   ],
   "source": [
    "from keras.callbacks import ModelCheckpoint, ReduceLROnPlateau, EarlyStopping, TensorBoard, CSVLogger\n",
    "callbacks = [\n",
    "    ModelCheckpoint(saved_path, monitor='val_loss', verbose=1, save_best_only=True, save_weights_only=False),\n",
    "    ReduceLROnPlateau(monitor='val_loss', factor=0.2, patience=2, min_lr=0.0005),\n",
    "    EarlyStopping(monitor='val_loss', patience=20, verbose=0, mode='auto', baseline=None, restore_best_weights=False),\n",
    "    TensorBoard(log_dir=tensor_log_path, write_graph=True, write_grads=False, batch_size=128),\n",
    "    CSVLogger(csv_log_path)\n",
    "]\n",
    "model3.fit_generator(generator(X_train,y_train,batch_size=128),\n",
    "                    validation_data=generator(X_dev,y_dev, batch_size=128),\n",
    "                    epochs=20, verbose=1, callbacks=callbacks, \n",
    "                    validation_steps=None, \n",
    "                    use_multiprocessing=False, shuffle=True)"
   ]
  },
  {
   "cell_type": "markdown",
   "metadata": {},
   "source": [
    "# train model 3 (rgb)"
   ]
  },
  {
   "cell_type": "code",
   "execution_count": null,
   "metadata": {},
   "outputs": [],
   "source": [
    "class generator_rgb(Sequence):\n",
    "    def __init__(self, x_set, y_set, batch_size=32):\n",
    "        self.x, self.y = x_set, y_set\n",
    "        self.batch_size = batch_size\n",
    "\n",
    "    def __len__(self):\n",
    "        return int(np.ceil(len(self.x) / float(self.batch_size)))\n",
    "\n",
    "    def __getitem__(self, idx):\n",
    "        batch_x = self.x[idx * self.batch_size:(idx + 1) * self.batch_size]\n",
    "        batch_y = self.y[idx * self.batch_size:(idx + 1) * self.batch_size]\n",
    "\n",
    "        return np.array([imread(file_name) for file_name in batch_x])/255., np.array([imread(file_name) for file_name in batch_y])/255."
   ]
  },
  {
   "cell_type": "code",
   "execution_count": null,
   "metadata": {},
   "outputs": [],
   "source": [
    "class pred_generator_rgb(Sequence):\n",
    "    def __init__(self, x_set, batch_size=32):\n",
    "        self.x = x_set          \n",
    "        self.batch_size = batch_size\n",
    "\n",
    "    def __len__(self):\n",
    "        return int(np.ceil(len(self.x) / float(self.batch_size)))\n",
    "\n",
    "    def __getitem__(self, idx):\n",
    "        batch_x = self.x[idx * self.batch_size:(idx + 1) * self.batch_size]\n",
    "\n",
    "        return np.array([imread(file_name) for file_name in batch_x])/255., np.array([imread(file_name) for file_name in batch_y])/255."
   ]
  },
  {
   "cell_type": "code",
   "execution_count": null,
   "metadata": {},
   "outputs": [],
   "source": [
    "K.clear_session()\n",
    "model3 = get_model3(input_shape=(50,300,3))\n",
    "model3.summary()"
   ]
  },
  {
   "cell_type": "code",
   "execution_count": null,
   "metadata": {},
   "outputs": [],
   "source": [
    "from keras.optimizers import Adam\n",
    "model3.compile(Adam(), loss='mse', metrics=[psnr, mae])\n",
    "\n",
    "saved_path = 'model_weight/model3_datav7_rgb/model_weight.hdf5'\n",
    "csv_log_path = 'training_log/model3_datav7_rgb/training.log'\n",
    "tensor_log_path = 'tensor_board_log/model3_datav7_rgb'"
   ]
  },
  {
   "cell_type": "code",
   "execution_count": null,
   "metadata": {},
   "outputs": [],
   "source": [
    "from keras.callbacks import ModelCheckpoint, ReduceLROnPlateau, EarlyStopping, TensorBoard, CSVLogger\n",
    "callbacks = [\n",
    "    ModelCheckpoint(saved_path, monitor='val_loss', verbose=1, save_best_only=True, save_weights_only=False),\n",
    "    ReduceLROnPlateau(monitor='val_loss', factor=0.2, patience=2, min_lr=0.0005),\n",
    "    EarlyStopping(monitor='val_loss', patience=20, verbose=0, mode='auto', baseline=None, restore_best_weights=False),\n",
    "    TensorBoard(log_dir=tensor_log_path, write_graph=True, write_grads=False, batch_size=128),\n",
    "    CSVLogger(csv_log_path)\n",
    "]\n",
    "model3.fit_generator(generator_rgb(X_train,y_train,batch_size=128),\n",
    "                    validation_data=generator_rgb(X_dev,y_dev, batch_size=128),\n",
    "                    epochs=20, verbose=1, callbacks=callbacks, \n",
    "                    validation_steps=None, \n",
    "                    use_multiprocessing=False, shuffle=True)"
   ]
  },
  {
   "cell_type": "code",
   "execution_count": null,
   "metadata": {},
   "outputs": [],
   "source": []
  },
  {
   "cell_type": "code",
   "execution_count": null,
   "metadata": {},
   "outputs": [],
   "source": []
  },
  {
   "cell_type": "markdown",
   "metadata": {},
   "source": [
    "# train model 2"
   ]
  },
  {
   "cell_type": "code",
   "execution_count": null,
   "metadata": {},
   "outputs": [],
   "source": [
    "K.clear_session()\n",
    "model = get_model2(input_shape=(40,600,3))\n",
    "model.load_weights('model_weight/SRCNN/model_weight.hdf5')\n",
    "model.summary()"
   ]
  },
  {
   "cell_type": "code",
   "execution_count": null,
   "metadata": {},
   "outputs": [],
   "source": [
    "from keras.optimizers import Adam\n",
    "model.compile(Adam(), loss='mse', metrics=[psnr, mae])\n",
    "\n",
    "saved_path = 'model_weight/SRCNN_v2/model_weight.hdf5'\n",
    "csv_log_path = 'training_log/SRCNN_v2/training.log'\n",
    "tensor_log_path = 'tensor_board_log/SRCNN_v2'"
   ]
  },
  {
   "cell_type": "code",
   "execution_count": null,
   "metadata": {},
   "outputs": [],
   "source": [
    "from keras.callbacks import ModelCheckpoint, ReduceLROnPlateau, EarlyStopping, TensorBoard, CSVLogger\n",
    "callbacks = [\n",
    "    ModelCheckpoint(saved_path, monitor='val_loss', verbose=1, save_best_only=True, save_weights_only=False),\n",
    "    ReduceLROnPlateau(monitor='val_loss', factor=0.2, patience=2, min_lr=0.0005),\n",
    "    EarlyStopping(monitor='val_loss', patience=20, verbose=0, mode='auto', baseline=None, restore_best_weights=False),\n",
    "    TensorBoard(log_dir=tensor_log_path, write_graph=True, write_grads=False, batch_size=128),\n",
    "    CSVLogger(csv_log_path)\n",
    "]\n",
    "model.fit_generator(generator(X_train,y_train,batch_size=32),\n",
    "                    validation_data=generator(X_dev,y_dev, batch_size=32),\n",
    "                    epochs=10, verbose=1, callbacks=callbacks, \n",
    "                    validation_steps=None, \n",
    "                    use_multiprocessing=False, shuffle=True)"
   ]
  },
  {
   "cell_type": "markdown",
   "metadata": {},
   "source": [
    "# model4"
   ]
  },
  {
   "cell_type": "code",
   "execution_count": null,
   "metadata": {},
   "outputs": [],
   "source": [
    "K.clear_session()\n",
    "model4 = get_model4(input_shape=(40,600,3))\n",
    "model4.compile(Adam(), loss='mse', metrics=[psnr, mae])\n",
    "model4.summary()"
   ]
  },
  {
   "cell_type": "code",
   "execution_count": null,
   "metadata": {},
   "outputs": [],
   "source": [
    "model4.evaluate_generator(generator(X_dev,y_dev,batch_size=64), verbose=1)"
   ]
  },
  {
   "cell_type": "code",
   "execution_count": null,
   "metadata": {},
   "outputs": [],
   "source": []
  },
  {
   "cell_type": "code",
   "execution_count": null,
   "metadata": {},
   "outputs": [],
   "source": []
  },
  {
   "cell_type": "code",
   "execution_count": null,
   "metadata": {},
   "outputs": [],
   "source": []
  },
  {
   "cell_type": "markdown",
   "metadata": {},
   "source": [
    "# test"
   ]
  },
  {
   "cell_type": "code",
   "execution_count": null,
   "metadata": {},
   "outputs": [],
   "source": [
    "# model2 = get_model2(input_shape=(100,600,3))\n",
    "# model3 = get_model3(input_shape=(100,600,3))"
   ]
  },
  {
   "cell_type": "code",
   "execution_count": null,
   "metadata": {},
   "outputs": [],
   "source": [
    "# model2.load_weights('model_weight/model2/model_weight.hdf5')\n",
    "model3.load_weights('model_weight/modified_model3/model_weight.hdf5')"
   ]
  },
  {
   "cell_type": "code",
   "execution_count": null,
   "metadata": {},
   "outputs": [],
   "source": [
    "generator = generator(X_dev,y_dev,batch_size=32)"
   ]
  },
  {
   "cell_type": "code",
   "execution_count": null,
   "metadata": {},
   "outputs": [],
   "source": [
    "test_ori = imread('datav6/dev20000/ori/ori15.png')\n",
    "test_median = imread('datav6/dev20000/median/median15.png')\n",
    "test_gaussian = imread('datav6/dev20000/gaussian/gaussian15.png')\n",
    "test_down = imread('datav6/dev20000/down/down15.png')"
   ]
  },
  {
   "cell_type": "code",
   "execution_count": null,
   "metadata": {},
   "outputs": [],
   "source": [
    "# model2.predict(test_median[np.newaxis,:,:,:])\n",
    "# # model2.predict(test_gaussian[np.newaxis,:,:,:])\n",
    "# # model2.predict(test_down[np.newaxis,:,:,:])"
   ]
  },
  {
   "cell_type": "code",
   "execution_count": null,
   "metadata": {},
   "outputs": [],
   "source": [
    "fig, axes = plt.subplots(4, 1,  figsize=(10,5))\n",
    "axes[0].imshow(test_ori)\n",
    "axes[1].imshow(test_median)\n",
    "axes[2].imshow(test_ori-test_median)\n",
    "# axes[2].imshow(model3.predict(test_median[np.newaxis,:,:,:]/255.0)[0])    \n",
    "axes[3].imshow(model3.predict(test_median - test_median[np.newaxis,:,:,:]/255.0)[0])\n",
    "# axes[1,2].imshow(target[i].reshape(30,200), cmap='gray')"
   ]
  },
  {
   "cell_type": "code",
   "execution_count": null,
   "metadata": {},
   "outputs": [],
   "source": [
    "_mae(resize(test_ori,(40,400,3),anti_aliasing=False),resize(test_median,(40,400,3),anti_aliasing=False))"
   ]
  },
  {
   "cell_type": "code",
   "execution_count": null,
   "metadata": {},
   "outputs": [],
   "source": [
    "fig, axes = plt.subplots(3, 1,  figsize=(25,10))\n",
    "axes[0].imshow(test_ori)\n",
    "axes[1].imshow(test_gaussian)\n",
    "axes[2].imshow(model.predict(test_gaussian[np.newaxis,:,:,:]/255.0).reshape(40,600,3))   "
   ]
  },
  {
   "cell_type": "code",
   "execution_count": null,
   "metadata": {},
   "outputs": [],
   "source": []
  },
  {
   "cell_type": "code",
   "execution_count": null,
   "metadata": {},
   "outputs": [],
   "source": [
    "fig, axes = plt.subplots(4, 1,  figsize=(15,8))\n",
    "axes[0].imshow(test_ori)\n",
    "axes[1].imshow(test_down)\n",
    "axes[2].imshow(test_ori - test_down)\n",
    "axes[3].imshow(model3.predict(test_down[np.newaxis,:,:,:]/255.0)[0]*255 - test_down)"
   ]
  },
  {
   "cell_type": "code",
   "execution_count": null,
   "metadata": {},
   "outputs": [],
   "source": [
    "test_down-model.predict(test_down[np.newaxis,:,:,:]/255.0)[0]"
   ]
  },
  {
   "cell_type": "markdown",
   "metadata": {},
   "source": [
    "# test baseline"
   ]
  },
  {
   "cell_type": "code",
   "execution_count": null,
   "metadata": {},
   "outputs": [],
   "source": [
    "def _mse(imageA, imageB):\n",
    "    err = np.sum((imageA.astype(\"float\") - imageB.astype(\"float\"))**2)\n",
    "    err /= float(imageA.shape[0] * imageA.shape[1])\n",
    "    return err\n",
    "\n",
    "def _mae(imageA, imageB):\n",
    "    err = np.sum(np.abs((imageA.astype(\"float\") - imageB.astype(\"float\"))))\n",
    "    err /= float(imageA.shape[0] * imageA.shape[1])\n",
    "    return err\n",
    "\n",
    "def _psnr(img1, img2):\n",
    "    mse = np.mean( (img1 - img2) ** 2 )\n",
    "    if mse == 0:\n",
    "        return 100\n",
    "    PIXEL_MAX = 255.0\n",
    "    return 20 * math.log10(PIXEL_MAX / math.sqrt(mse))"
   ]
  },
  {
   "cell_type": "code",
   "execution_count": null,
   "metadata": {},
   "outputs": [],
   "source": [
    "sum_mae = 0\n",
    "sum_mse = 0\n",
    "sum_psnr = 0\n",
    "for i in tqdm(range(25000)):\n",
    "    ori_img = imread(y_dev[i])\n",
    "    blur_img = imread(X_dev[i])\n",
    "    sum_mae += mae(ori_img,blur_img)\n",
    "    sum_mse += mse(ori_img,blur_img)\n",
    "    sum_psnr += psnr(ori_img,blur_img)\n",
    "print('baseline_mae:',sum_mae/25000)\n",
    "print('baseline_mse:',sum_mse/25000)\n",
    "print('baseline_psnr:',sum_psnr/25000)"
   ]
  },
  {
   "cell_type": "code",
   "execution_count": null,
   "metadata": {},
   "outputs": [],
   "source": [
    "# model3.evaluate_generator(generator(X_dev[:5000],y_dev[:5000],batch_size=64), verbose=1)"
   ]
  },
  {
   "cell_type": "code",
   "execution_count": null,
   "metadata": {},
   "outputs": [],
   "source": [
    "model4 = get_model4((50,300,1))\n",
    "model4.compile(Adam(), loss='mse', metrics=[psnr, mae])\n",
    "model4.evaluate_generator(generator(X_train,y_train,batch_size=128), verbose=1)"
   ]
  },
  {
   "cell_type": "code",
   "execution_count": null,
   "metadata": {},
   "outputs": [],
   "source": [
    "model4.evaluate_generator(generator(X_train[60000:],y_train[60000:],batch_size=128), verbose=1)"
   ]
  },
  {
   "cell_type": "markdown",
   "metadata": {},
   "source": [
    "# comparing images"
   ]
  },
  {
   "cell_type": "code",
   "execution_count": null,
   "metadata": {},
   "outputs": [],
   "source": [
    "!pwd"
   ]
  },
  {
   "cell_type": "code",
   "execution_count": 52,
   "metadata": {},
   "outputs": [],
   "source": [
    "# test_path = 'drive/My Drive/computer_vision/testing2'\n",
    "def comparing(model, X, y, batch_size=10):\n",
    "  \n",
    "  for b, (source, target) in enumerate(generator(X, y, batch_size=batch_size)):\n",
    "    \n",
    "    results = model.predict(source)\n",
    "    \n",
    "    fig, axes = plt.subplots(len(results), 3,  figsize=(100,5*len(results)))\n",
    "    \n",
    "    for i, result in enumerate(results):                \n",
    "\n",
    "#       axes[i,0].imshow(source[i], cmap='gray')\n",
    "#       axes[i,1].imshow(result, cmap='gray')\n",
    "#       axes[i,2].imshow(target[i], cmap='gray')\n",
    "      axes[i,0].imshow(np.reshape(source[i], (50,300)), cmap='gray')\n",
    "      axes[i,1].imshow(np.reshape(result, (50,300)), cmap='gray')\n",
    "      axes[i,2].imshow(np.reshape(target[i], (50,300)), cmap='gray')\n",
    "#     print(i, len(results))\n",
    "#     fig.savefig(os.path.join(test_path,'test_{}-{}.png'.format(b*batch_size, b*batch_size+len(results))))\n",
    "      fig.show()\n",
    "    plt.show()"
   ]
  },
  {
   "cell_type": "code",
   "execution_count": null,
   "metadata": {},
   "outputs": [],
   "source": [
    "comparing(model4, X_dev[1000:1010], y_dev[1000:1010])"
   ]
  },
  {
   "cell_type": "markdown",
   "metadata": {},
   "source": [
    "# eval model 3"
   ]
  },
  {
   "cell_type": "code",
   "execution_count": 22,
   "metadata": {},
   "outputs": [],
   "source": [
    "model = get_model3(input_shape=(50,300,1))\n",
    "model.compile(Adam(), loss='mse', metrics=[psnr, mae])"
   ]
  },
  {
   "cell_type": "code",
   "execution_count": 23,
   "metadata": {},
   "outputs": [],
   "source": [
    "model.load_weights('model_weight/model3_datav7/model_weight.hdf5')"
   ]
  },
  {
   "cell_type": "code",
   "execution_count": 25,
   "metadata": {},
   "outputs": [
    {
     "name": "stdout",
     "output_type": "stream",
     "text": [
      "469/469 [==============================] - 848s 2s/step\n"
     ]
    },
    {
     "data": {
      "text/plain": [
       "[0.001547381980655094, 29.72811017252604, 3.0961334665934244]"
      ]
     },
     "execution_count": 25,
     "metadata": {},
     "output_type": "execute_result"
    }
   ],
   "source": [
    "model.evaluate_generator(generator(X_test,y_test,batch_size=128), verbose=1)"
   ]
  },
  {
   "cell_type": "code",
   "execution_count": 26,
   "metadata": {},
   "outputs": [
    {
     "name": "stdout",
     "output_type": "stream",
     "text": [
      "157/157 [==============================] - 73s 465ms/step\n"
     ]
    },
    {
     "data": {
      "text/plain": [
       "[0.0017467348117381335, 30.448321557617188, 2.4513429317474364]"
      ]
     },
     "execution_count": 26,
     "metadata": {},
     "output_type": "execute_result"
    }
   ],
   "source": [
    "model.evaluate_generator(generator(X_test[0:20000],y_test[0:20000],batch_size=128), verbose=1)"
   ]
  },
  {
   "cell_type": "code",
   "execution_count": 27,
   "metadata": {},
   "outputs": [
    {
     "name": "stdout",
     "output_type": "stream",
     "text": [
      "157/157 [==============================] - 73s 464ms/step\n"
     ]
    },
    {
     "data": {
      "text/plain": [
       "[0.0011208930181339383, 30.55967485961914, 3.3243650550842285]"
      ]
     },
     "execution_count": 27,
     "metadata": {},
     "output_type": "execute_result"
    }
   ],
   "source": [
    "model.evaluate_generator(generator(X_test[20000:40000],y_test[20000:40000],batch_size=128), verbose=1)"
   ]
  },
  {
   "cell_type": "code",
   "execution_count": 28,
   "metadata": {},
   "outputs": [
    {
     "name": "stdout",
     "output_type": "stream",
     "text": [
      "157/157 [==============================] - 73s 463ms/step\n"
     ]
    },
    {
     "data": {
      "text/plain": [
       "[0.0017745181128382683, 28.176334020996094, 3.512692413711548]"
      ]
     },
     "execution_count": 28,
     "metadata": {},
     "output_type": "execute_result"
    }
   ],
   "source": [
    "model.evaluate_generator(generator(X_test[40000:],y_test[40000:],batch_size=128), verbose=1)"
   ]
  },
  {
   "cell_type": "code",
   "execution_count": 29,
   "metadata": {},
   "outputs": [],
   "source": [
    "def convert_mse(val):\n",
    "    return ((val**0.5)*255)**2"
   ]
  },
  {
   "cell_type": "code",
   "execution_count": 50,
   "metadata": {},
   "outputs": [
    {
     "data": {
      "text/plain": [
       "113.58143113327212"
      ]
     },
     "execution_count": 50,
     "metadata": {},
     "output_type": "execute_result"
    }
   ],
   "source": [
    "convert_mse(0.0017467348117381335)"
   ]
  },
  {
   "cell_type": "code",
   "execution_count": 62,
   "metadata": {},
   "outputs": [
    {
     "data": {
      "image/png": "[encoded data removed]",
      "text/plain": [
       "<Figure size 7200x1080 with 9 Axes>"
      ]
     },
     "metadata": {
      "needs_background": "light"
     },
     "output_type": "display_data"
    }
   ],
   "source": [
    "comparing(model, X_dev[43000:43003], y_dev[43000:43003])"
   ]
  },
  {
   "cell_type": "code",
   "execution_count": null,
   "metadata": {},
   "outputs": [],
   "source": []
  }
 ],
 "metadata": {
  "kernelspec": {
   "display_name": "Python 3",
   "language": "python",
   "name": "python3"
  },
  "language_info": {
   "codemirror_mode": {
    "name": "ipython",
    "version": 3
   },
   "file_extension": ".py",
   "mimetype": "text/x-python",
   "name": "python",
   "nbconvert_exporter": "python",
   "pygments_lexer": "ipython3",
   "version": "3.5.2"
  }
 },
 "nbformat": 4,
 "nbformat_minor": 2
}
